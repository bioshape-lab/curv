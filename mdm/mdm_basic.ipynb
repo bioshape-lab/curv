{
 "cells": [
  {
   "cell_type": "code",
   "execution_count": 43,
   "metadata": {},
   "outputs": [],
   "source": [
    "import geomstats.backend as gs\n",
    "import geomstats.datasets.utils as data_utils\n",
    "from sklearn.model_selection import KFold\n",
    "import numpy as np"
   ]
  },
  {
   "cell_type": "code",
   "execution_count": 36,
   "metadata": {},
   "outputs": [],
   "source": [
    "data, patient_ids, labels = data_utils.load_connectomes()"
   ]
  },
  {
   "cell_type": "code",
   "execution_count": 37,
   "metadata": {},
   "outputs": [
    {
     "name": "stdout",
     "output_type": "stream",
     "text": [
      "(86, 28, 28)\n"
     ]
    }
   ],
   "source": [
    "print(data.shape)"
   ]
  },
  {
   "cell_type": "code",
   "execution_count": 38,
   "metadata": {},
   "outputs": [
    {
     "data": {
      "text/plain": [
       "array([1, 0, 0, 0, 1, 0, 1, 1, 1, 0, 1, 0, 1, 1, 1, 1, 1, 0, 0, 1, 0, 0,\n",
       "       0, 0, 1, 0, 1, 1, 0, 0, 1, 0, 0, 0, 0, 0, 0, 0, 0, 1, 0, 0, 1, 0,\n",
       "       0, 1, 0, 1, 0, 1, 0, 1, 1, 1, 0, 1, 0, 1, 1, 0, 0, 0, 1, 0, 0, 1,\n",
       "       1, 1, 1, 1, 0, 1, 0, 1, 0, 0, 0, 1, 1, 1, 0, 0, 0, 1, 0, 1])"
      ]
     },
     "execution_count": 38,
     "metadata": {},
     "output_type": "execute_result"
    }
   ],
   "source": [
    "labels"
   ]
  },
  {
   "cell_type": "code",
   "execution_count": 40,
   "metadata": {},
   "outputs": [],
   "source": [
    "from geomstats.learning.mdm import RiemannianMinimumDistanceToMeanClassifier\n",
    "from sklearn.model_selection import RepeatedKFold"
   ]
  },
  {
   "cell_type": "code",
   "execution_count": 57,
   "metadata": {},
   "outputs": [],
   "source": [
    "n = 28\n",
    "n_classes = 2\n",
    "from geomstats.geometry.spd_matrices import SPDMatrices, SPDMetricAffine, SPDMetricBuresWasserstein, SPDMetricLogEuclidean, SPDMetricEuclidean\n",
    "metric_list = [SPDMetricAffine(n), SPDMetricAffine(n, power_affine=0.5), SPDMetricAffine(n, power_affine=-0.5), SPDMetricBuresWasserstein(n), SPDMetricLogEuclidean(n), SPDMetricEuclidean(n)]\n",
    "\n",
    "rkf = RepeatedKFold(n_splits=2, n_repeats=100, random_state=2652124)"
   ]
  },
  {
   "cell_type": "code",
   "execution_count": 63,
   "metadata": {},
   "outputs": [],
   "source": [
    "accuracy_list = []\n",
    "rkf = RepeatedKFold(n_splits=2, n_repeats=100, random_state=2652124)\n",
    "for train_index, test_index in rkf.split(data):\n",
    "    X_train, X_test = data[train_index], data[test_index]\n",
    "    y_train, y_test = labels[train_index], labels[test_index]\n",
    "    metric_wise = []\n",
    "    for metric in metric_list:\n",
    "        mdm = RiemannianMinimumDistanceToMeanClassifier(metric, n_classes)\n",
    "        mdm.fit(X_train, y_train)\n",
    "        y=mdm.predict(X_test)\n",
    "        acc = (y == y_test).mean()\n",
    "        metric_wise.append(acc)\n",
    "    accuracy_list.append(np.array(metric_wise))\n",
    "accuracy = np.array(accuracy_list).mean(axis=0)"
   ]
  },
  {
   "cell_type": "code",
   "execution_count": 62,
   "metadata": {},
   "outputs": [
    {
     "name": "stdout",
     "output_type": "stream",
     "text": [
      "[0.70585796 0.70554187 0.70554187 0.69367406 0.70511494 0.67876847]\n"
     ]
    }
   ],
   "source": [
    "print(accuracy)"
   ]
  },
  {
   "cell_type": "code",
   "execution_count": 55,
   "metadata": {},
   "outputs": [
    {
     "name": "stdout",
     "output_type": "stream",
     "text": [
      "SPDMetricAffine 0.6832558139534882\n",
      "SPDMetricBuresWasserstein 0.6709302325581398\n",
      "SPDMetricLogEuclidean 0.6833720930232559\n",
      "SPDMetricEuclidean 0.6523255813953489\n"
     ]
    }
   ],
   "source": [
    "print(\"SPDMetricAffine\", accuracy[0])\n",
    "print(\"SPDMetricBuresWasserstein\", accuracy[1])\n",
    "print(\"SPDMetricLogEuclidean\", accuracy[2])\n",
    "print(\"SPDMetricEuclidean\", accuracy[3])"
   ]
  },
  {
   "cell_type": "markdown",
   "metadata": {},
   "source": [
    "**what is done** :\n",
    "\n",
    "86 examples was split into 2 folds and experiments is repeated with 100 random shuffles.\n",
    "\n",
    "**Conclusion** :\n",
    " \n",
    "Intrinsic Metric perform well than Euclidean. Affine, Log Euclidean are top. But This dataset is pretty small (just 86 examples) to make any reliable conclusion. "
   ]
  },
  {
   "cell_type": "code",
   "execution_count": 68,
   "metadata": {},
   "outputs": [
    {
     "name": "stdout",
     "output_type": "stream",
     "text": [
      "(10, 10)\n",
      "[[0. 0. 0. 0. 0. 0. 0. 0. 0. 0.]\n",
      " [0. 0. 0. 0. 0. 0. 0. 0. 0. 0.]\n",
      " [0. 0. 0. 0. 0. 0. 0. 0. 0. 0.]\n",
      " [0. 0. 0. 0. 0. 0. 0. 0. 0. 0.]\n",
      " [0. 0. 0. 0. 0. 0. 0. 0. 0. 0.]\n",
      " [0. 0. 0. 0. 0. 0. 0. 0. 0. 0.]\n",
      " [0. 0. 0. 0. 0. 0. 0. 0. 0. 0.]\n",
      " [0. 0. 0. 0. 0. 0. 0. 0. 0. 0.]\n",
      " [0. 0. 0. 0. 0. 0. 0. 0. 0. 0.]\n",
      " [0. 0. 0. 0. 0. 0. 0. 0. 0. 0.]]\n"
     ]
    }
   ],
   "source": [
    "import cv2 \n",
    "gray_img = np.ones((10,10))\n",
    "print(gray_img.shape)\n",
    "dx = cv2.filter2D(gray_img, cv2.CV_64F, np.mat([-1,0,1]))\n",
    "\n",
    "print(dx)"
   ]
  },
  {
   "cell_type": "code",
   "execution_count": 73,
   "metadata": {},
   "outputs": [
    {
     "name": "stdout",
     "output_type": "stream",
     "text": [
      "(20, 20)\n",
      "(18, 18)\n"
     ]
    }
   ],
   "source": [
    "mat = np.zeros((20,20))\n",
    "print(mat.shape)\n",
    "print(mat[1:-1,1:-1].shape)"
   ]
  },
  {
   "cell_type": "code",
   "execution_count": null,
   "metadata": {},
   "outputs": [],
   "source": []
  }
 ],
 "metadata": {
  "interpreter": {
   "hash": "1ec97232e8cf621a83df66675202735693aaf97ce3ae5a5ad95380fe5aef9418"
  },
  "kernelspec": {
   "display_name": "Python 3.9.7 ('geomstats39')",
   "language": "python",
   "name": "python3"
  },
  "language_info": {
   "codemirror_mode": {
    "name": "ipython",
    "version": 3
   },
   "file_extension": ".py",
   "mimetype": "text/x-python",
   "name": "python",
   "nbconvert_exporter": "python",
   "pygments_lexer": "ipython3",
   "version": "3.9.7"
  },
  "orig_nbformat": 4
 },
 "nbformat": 4,
 "nbformat_minor": 2
}
